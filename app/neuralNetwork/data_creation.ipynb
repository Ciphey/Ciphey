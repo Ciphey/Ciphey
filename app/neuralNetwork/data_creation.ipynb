{
 "cells": [
  {
   "cell_type": "code",
   "execution_count": 24,
   "metadata": {},
   "outputs": [],
   "source": [
    "from string import punctuation\n",
    "with open(\"sherlock.txt\", \"r\") as f:\n",
    "    text = f.read()\n"
   ]
  },
  {
   "cell_type": "code",
   "execution_count": null,
   "metadata": {},
   "outputs": [],
   "source": []
  },
  {
   "cell_type": "code",
   "execution_count": 25,
   "metadata": {},
   "outputs": [],
   "source": [
    "# replaces new lines with full stops\n",
    "text = text.replace('\\n', '.').lower()"
   ]
  },
  {
   "cell_type": "code",
   "execution_count": 28,
   "metadata": {},
   "outputs": [
    {
     "name": "stdout",
     "output_type": "stream",
     "text": [
      "['i', ' a scandal in bohemia', '', '', 'i', '', '', 'to sherlock holmes she is always _the_ woman', ' i have seldom heard him', 'mention her under any other name']\n"
     ]
    }
   ],
   "source": [
    "# splits it up into sentences\n",
    "sentences = text.split(\".\")\n"
   ]
  },
  {
   "cell_type": "code",
   "execution_count": 36,
   "metadata": {},
   "outputs": [],
   "source": [
    "# gets rid of empty stirngs and get rid of the \"i\" for chapter numbers\n",
    "sentences = list(filter(None, sentences))\n",
    "for counter, sent in enumerate(sentences):\n",
    "    if sent == \"i\":\n",
    "        del sentences[counter]\n"
   ]
  },
  {
   "cell_type": "code",
   "execution_count": 37,
   "metadata": {},
   "outputs": [
    {
     "name": "stdout",
     "output_type": "stream",
     "text": [
      "[' a scandal in bohemia', 'to sherlock holmes she is always _the_ woman', ' i have seldom heard him', 'mention her under any other name', ' in his eyes she eclipses and', 'predominates the whole of her sex', ' it was not that he felt any emotion', 'akin to love for irene adler', ' all emotions, and that one particularly,', 'were abhorrent to his cold, precise but admirably balanced mind']\n"
     ]
    }
   ],
   "source": [
    "print(sentences[:10])"
   ]
  },
  {
   "cell_type": "markdown",
   "metadata": {},
   "source": [
    "So I want the table to look like:\n",
    "text | length | how many letters are used (uniqueness) | maybe the chi squared score ? (normalised distribution not english) | frequency distribution | what it is \n",
    "\n",
    "I want it to include these things:\n",
    "base64\n",
    "sha1\n",
    "md5\n",
    "sha256\n",
    "caeser cipher\n",
    "plaintext"
   ]
  }
 ],
 "metadata": {
  "kernelspec": {
   "display_name": "Python 3",
   "language": "python",
   "name": "python3"
  },
  "language_info": {
   "codemirror_mode": {
    "name": "ipython",
    "version": 3
   },
   "file_extension": ".py",
   "mimetype": "text/x-python",
   "name": "python",
   "nbconvert_exporter": "python",
   "pygments_lexer": "ipython3",
   "version": "3.7.3"
  }
 },
 "nbformat": 4,
 "nbformat_minor": 2
}

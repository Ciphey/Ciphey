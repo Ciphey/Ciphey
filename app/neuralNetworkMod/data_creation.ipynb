{
 "cells": [
  {
   "cell_type": "code",
   "execution_count": 271,
   "metadata": {},
   "outputs": [],
   "source": [
    "from string import punctuation\n",
    "from scipy.stats import chisquare\n",
    "from IPython.core.debugger import set_trace\n",
    "import base64\n",
    "with open(\"harrypotter.txt\", \"r\") as f:\n",
    "    text = f.read()\n"
   ]
  },
  {
   "cell_type": "code",
   "execution_count": null,
   "metadata": {},
   "outputs": [],
   "source": []
  },
  {
   "cell_type": "code",
   "execution_count": 272,
   "metadata": {},
   "outputs": [],
   "source": [
    "# replaces new lines with full stops\n",
    "text = text.replace('\\n', '.').lower()"
   ]
  },
  {
   "cell_type": "code",
   "execution_count": 273,
   "metadata": {},
   "outputs": [],
   "source": [
    "# splits it up into sentences\n",
    "sentences = text.split(\".\")\n"
   ]
  },
  {
   "cell_type": "code",
   "execution_count": 274,
   "metadata": {},
   "outputs": [],
   "source": [
    "# gets rid of empty stirngs and get rid of the \"i\" for chapter numbers\n",
    "sentences = list(filter(None, sentences))\n",
    "for counter, sent in enumerate(sentences):\n",
    "    if sent == \"i\":\n",
    "        del sentences[counter]\n"
   ]
  },
  {
   "cell_type": "code",
   "execution_count": 275,
   "metadata": {},
   "outputs": [
    {
     "name": "stdout",
     "output_type": "stream",
     "text": [
      "[\"harry potter and the sorcerer's stone \", 'chapter one ', 'the boy who lived ', 'mr', ' and mrs', ' dursley, of number four, privet drive, were proud to say that they were perfectly normal, thank you very much', \" they were the last people you'd expect to be involved in anything strange or mysterious, because they just didn't hold with such nonsense\", ' ', 'mr', ' dursley was the director of a firm called grunnings, which made drills']\n"
     ]
    }
   ],
   "source": [
    "print(sentences[:10])"
   ]
  },
  {
   "cell_type": "markdown",
   "metadata": {},
   "source": [
    "So I want the table to look like:\n",
    "text | length | how many letters are used (uniqueness) | maybe the chi squared score ? (normalised distribution not english) | frequency distribution | what it is | the plaintext\n",
    "\n",
    "I want it to include these things:\n",
    "base64\n",
    "sha1\n",
    "md5\n",
    "sha256\n",
    "caeser cipher\n",
    "plaintext\n",
    "\n",
    "So the next step would be to create encryption functions\n",
    "then for every sentence in it\n",
    "encrypt it\n",
    "create a csv line\n",
    "plaintext | encrypted text | length | how many letters are used | frequency distribution | chi squared score | what it is (base 64, sha 256, etc)\n"
   ]
  },
  {
   "cell_type": "code",
   "execution_count": 276,
   "metadata": {},
   "outputs": [],
   "source": [
    "def apply_rotation(c, factor):\n",
    "    \"\"\"Applies a shift of factor to the letter denoted by c\"\"\"\n",
    "    if c.isalpha():\n",
    "        lower = ord('A') if c.isupper() else ord('a')\n",
    "        c = chr(lower + ((ord(c) - lower + factor) % 26))\n",
    "    return c\n",
    "\n",
    "def caesar_cipher(s, k):\n",
    "    \"\"\"Iterates through each letter and constructs the cipher text\"\"\"\n",
    "    new_message = ''\n",
    "    factor = k % 26\n",
    "    for c in s:\n",
    "        new_message += apply_rotation(c, factor)\n",
    "    return new_message"
   ]
  },
  {
   "cell_type": "code",
   "execution_count": 277,
   "metadata": {},
   "outputs": [
    {
     "data": {
      "text/plain": [
       "'khoor'"
      ]
     },
     "execution_count": 277,
     "metadata": {},
     "output_type": "execute_result"
    }
   ],
   "source": [
    "caesar_cipher(\"hello\", 3)"
   ]
  },
  {
   "cell_type": "code",
   "execution_count": 278,
   "metadata": {},
   "outputs": [],
   "source": [
    "import hashlib"
   ]
  },
  {
   "cell_type": "code",
   "execution_count": 279,
   "metadata": {},
   "outputs": [],
   "source": [
    "hash_object = hashlib.sha1(b'HelWorld')"
   ]
  },
  {
   "cell_type": "code",
   "execution_count": 280,
   "metadata": {},
   "outputs": [
    {
     "data": {
      "text/plain": [
       "<sha1 HASH object @ 0x00000247D6FBB940>"
      ]
     },
     "execution_count": 280,
     "metadata": {},
     "output_type": "execute_result"
    }
   ],
   "source": [
    "hash_object"
   ]
  },
  {
   "cell_type": "code",
   "execution_count": 281,
   "metadata": {},
   "outputs": [
    {
     "data": {
      "text/plain": [
       "'8cbc22deca78b710224fff70e7b6fd148b88f35f'"
      ]
     },
     "execution_count": 281,
     "metadata": {},
     "output_type": "execute_result"
    }
   ],
   "source": [
    "hash_object.hexdigest()"
   ]
  },
  {
   "cell_type": "code",
   "execution_count": 282,
   "metadata": {},
   "outputs": [],
   "source": [
    "def sha1hash(s):\n",
    "    temp = str.encode(s)\n",
    "    temp = hashlib.sha1(temp)\n",
    "    return temp.hexdigest()"
   ]
  },
  {
   "cell_type": "code",
   "execution_count": 283,
   "metadata": {},
   "outputs": [],
   "source": [
    "def md5hash(s):\n",
    "    temp = str.encode(s)\n",
    "    temp = hashlib.md5(temp)\n",
    "    return temp.hexdigest()"
   ]
  },
  {
   "cell_type": "code",
   "execution_count": 284,
   "metadata": {},
   "outputs": [],
   "source": [
    "def sha256hash(s):\n",
    "    temp = str.encode(s)\n",
    "    temp = hashlib.sha256(temp)\n",
    "    return temp.hexdigest()"
   ]
  },
  {
   "cell_type": "code",
   "execution_count": null,
   "metadata": {},
   "outputs": [],
   "source": []
  },
  {
   "cell_type": "code",
   "execution_count": 285,
   "metadata": {},
   "outputs": [],
   "source": [
    "def sha512hash(s):\n",
    "    temp = str.encode(s)\n",
    "    temp = hashlib.sha512(temp)\n",
    "    return temp.hexdigest()"
   ]
  },
  {
   "cell_type": "code",
   "execution_count": 286,
   "metadata": {},
   "outputs": [],
   "source": [
    "types = [\"sha1\", \"md5\", \"sha256\", \"sha512\", \"caeser\", \"caeser\", \"plaintext\", \"reverse\", \"morse\", \"base64\", \"binary\", \"hexadecimal\", \"ascii\" ]"
   ]
  },
  {
   "cell_type": "code",
   "execution_count": 287,
   "metadata": {},
   "outputs": [],
   "source": [
    "def howManyLettersUsed(text):\n",
    "    text = list(set(list(text)))\n",
    "    return len(text)\n",
    "    "
   ]
  },
  {
   "cell_type": "code",
   "execution_count": 288,
   "metadata": {},
   "outputs": [],
   "source": [
    "def isAscii(letter):\n",
    "    \"\"\"Determines whether a letter (or word) is ASCII\"\"\"\n",
    "    # checks if a charecter is ascii\n",
    "    # https://stackoverflow.com/questions/196345/how-to-check-if-a-string-in-python-is-in-ascii\n",
    "    return bool(lambda s: len(s) == len(s.encode()))"
   ]
  },
  {
   "cell_type": "code",
   "execution_count": 289,
   "metadata": {},
   "outputs": [],
   "source": [
    "def reverse(s):\n",
    "    return s[::-1]"
   ]
  },
  {
   "cell_type": "code",
   "execution_count": 290,
   "metadata": {},
   "outputs": [],
   "source": [
    "def b64(s):\n",
    "    s = s.encode()\n",
    "    s = base64.b64encode(s)\n",
    "    return s.decode()"
   ]
  },
  {
   "cell_type": "code",
   "execution_count": 291,
   "metadata": {},
   "outputs": [],
   "source": [
    "def binary(s):\n",
    "    return ' '.join(format(x, 'b') for x in bytearray(s))"
   ]
  },
  {
   "cell_type": "code",
   "execution_count": 292,
   "metadata": {},
   "outputs": [],
   "source": [
    "def hexade(s):\n",
    "    return ''.join(hex(ord(c))[2:] for c in s)"
   ]
  },
  {
   "cell_type": "code",
   "execution_count": 293,
   "metadata": {},
   "outputs": [],
   "source": [
    "MORSE_CODE_DICT = {'A': '.-', 'B': '-...',\n",
    "        'C': '-.-.', 'D': '-..', 'E': '.',\n",
    "        'F': '..-.', 'G': '--.', 'H': '....',\n",
    "        'I': '..', 'J': '.---', 'K': '-.-',\n",
    "        'L': '.-..', 'M': '--', 'N': '-.',\n",
    "        'O': '---', 'P': '.--.', 'Q': '--.-',\n",
    "        'R': '.-.', 'S': '...', 'T': '-',\n",
    "        'U': '..-', 'V': '...-', 'W': '.--',\n",
    "        'X': '-..-', 'Y': '-.--', 'Z': '--..',\n",
    "        '?': '..--..', '.': '.-.-.-', ' ': '/',\n",
    "        '0': '-----',  '1': '.----',  '2': '..---',\n",
    "        '3': '...--',  '4': '....-',  '5': '.....',\n",
    "        '6': '-....',  '7': '--...',  '8': '---..',\n",
    "        '9': '----.' \n",
    "        }\n",
    "def morse(s):\n",
    "    return ' '.join(MORSE_CODE_DICT.get(i.upper()) for i in s)"
   ]
  },
  {
   "cell_type": "code",
   "execution_count": 294,
   "metadata": {},
   "outputs": [],
   "source": [
    "def asci(s):\n",
    "    a = []\n",
    "    for ch in s:\n",
    "        a.append(str(ord(ch)))\n",
    "    return ' '.join(a)"
   ]
  },
  {
   "cell_type": "code",
   "execution_count": 295,
   "metadata": {},
   "outputs": [],
   "source": [
    "def getLetterFreq(text):\n",
    "    # This part creates a letter frequency of the text\n",
    "    letterFreq = {'a': 0, 'b': 0, 'c': 0, 'd': 0, 'e': 0, 'f': 0, 'g': 0, 'h': 0, 'i': 0, 'j': 0, 'k': 0, 'l': 0, 'm': 0, 'n': 0, 'o': 0, 'p': 0, 'q': 0, 'r': 0, 's': 0, 't': 0, 'u': 0, 'v': 0, 'w': 0, 'x': 0, 'y': 0, 'z': 0}\n",
    "\n",
    "    for letter in text.lower():\n",
    "        if letter in letterFreq:\n",
    "            letterFreq[letter] +=1\n",
    "        else:\n",
    "            # if letter is not puncuation, but it is still ascii\n",
    "            # it's probably a different language so add it to the dict\n",
    "            if letter not in punctuation and isAscii(letter):\n",
    "                letterFreq[letter] = 1\n",
    "    return list(letterFreq.values())"
   ]
  },
  {
   "cell_type": "code",
   "execution_count": null,
   "metadata": {},
   "outputs": [],
   "source": []
  },
  {
   "cell_type": "code",
   "execution_count": 296,
   "metadata": {},
   "outputs": [],
   "source": [
    "import csv\n",
    "f = open(\"encryptionData.csv\", \"w\")\n",
    "counter = 0\n",
    "encryption_writer = csv.writer(f, delimiter=',', quotechar='\"', quoting=csv.QUOTE_MINIMAL)"
   ]
  },
  {
   "cell_type": "code",
   "execution_count": 297,
   "metadata": {},
   "outputs": [],
   "source": [
    "def makeCsvLine(plaintext, text, cipher):\n",
    "    plaintext = plaintext\n",
    "    ciphertext = text\n",
    "    length = len(text)\n",
    "    howManyLetters = howManyLettersUsed(text)\n",
    "    letterfreq = getLetterFreq(text)\n",
    "    chi = chisquare(letterfreq)[1]\n",
    "    \n",
    "    \n",
    "    used = cipher\n",
    "    used = str(used)\n",
    "    if used == \"sha1\":\n",
    "        used = 0\n",
    "    elif used == \"md5\":\n",
    "        used = 1\n",
    "    elif used == \"sha256\":\n",
    "        used = 2\n",
    "    elif used == \"sha512\":\n",
    "        used = 3\n",
    "    elif used == \"caesar\":\n",
    "        used = 4\n",
    "    elif used == \"reverse\":\n",
    "        used = 5\n",
    "    elif used == \"morse\":\n",
    "        used = 6\n",
    "    elif used == \"base64\":\n",
    "        used = 7\n",
    "    elif used == \"binary\":\n",
    "        used = 8\n",
    "    elif used == \"hexadecimal\":\n",
    "        used = 9\n",
    "    elif used == \"ascii\":\n",
    "        used == 10\n",
    "    elif used.startswith(\"a\") or used.startswith(\"A\"):\n",
    "        used = 10\n",
    "    elif used == 10:\n",
    "        pass\n",
    "    if plaintext == \"\" or plaintext == None:\n",
    "        return (1)\n",
    "    global counter\n",
    "    encryption_writer.writerow([plaintext, ciphertext, length, howManyLetters, letterfreq, chi, used])\n",
    "    "
   ]
  },
  {
   "cell_type": "code",
   "execution_count": 298,
   "metadata": {},
   "outputs": [],
   "source": [
    "makeCsvLine(\"hello my name is brandon\", \"iad jadiw aikjawi\", \"caesar\")"
   ]
  },
  {
   "cell_type": "code",
   "execution_count": null,
   "metadata": {},
   "outputs": [],
   "source": []
  },
  {
   "cell_type": "code",
   "execution_count": 299,
   "metadata": {},
   "outputs": [],
   "source": [
    "# types = [\"sha1\", \"md5\", \"sha256\", \"sha512\", \"caeser\", \"caeser\", \"plaintext\" ]\n",
    "import random\n",
    "for sent in sentences:        \n",
    "    result = random.choice(types)\n",
    "    try:\n",
    "        if sent == None or sent == \"\" or sent == \" \":\n",
    "            continue\n",
    "        if sent[0] == \" \":\n",
    "            sent = sent[1::]\n",
    "        if result == \"sha1\":\n",
    "            temp = sha1hash(sent)\n",
    "            if temp == None:\n",
    "                continue\n",
    "            makeCsvLine(sent, temp, \"sha1\")\n",
    "        elif result == \"md5\":\n",
    "            temp = md5hash(sent)\n",
    "            if temp == None:\n",
    "                continue\n",
    "            makeCsvLine(sent, temp, \"md5\")\n",
    "        elif result == \"sha256\":\n",
    "            temp = sha256hash(sent)\n",
    "            if temp == None:\n",
    "                continue\n",
    "            makeCsvLine(sent, temp, \"sha256\")\n",
    "        elif result == \"sha512\":\n",
    "            temp = sha512hash(sent)\n",
    "            if temp == None:\n",
    "                continue\n",
    "            makeCsvLine(sent, temp, \"sha512\")\n",
    "        elif result == \"caeser\":\n",
    "            temp = caesar_cipher(sent, random.randint(1, 25))\n",
    "            if temp == None:\n",
    "                continue\n",
    "            makeCsvLine(sent, temp, \"caesar\")\n",
    "        elif result == \"reverse\":\n",
    "            temp = reverse(sent)\n",
    "            if temp == None:\n",
    "                continue\n",
    "            makeCsvLine(sent, temp, \"reverse\")\n",
    "        elif result == \"morse\":\n",
    "            temp = morse(sent)\n",
    "            if temp == None:\n",
    "                continue\n",
    "            makeCsvLine(sent, temp, \"morse\")\n",
    "        elif result == \"base64\":\n",
    "            temp = b64(sent)\n",
    "            if temp == None:\n",
    "                continue\n",
    "            makeCsvLine(sent, temp, \"base64\")\n",
    "        elif result==\"binary\":\n",
    "            temp = binary(sent)\n",
    "            if temp == None:\n",
    "                continue\n",
    "            makeCsvLine(sent, temp, \"binary\")\n",
    "        elif result == \"hexadecimal\":\n",
    "            temp = hexade(sent)\n",
    "            if temp == None:\n",
    "                continue\n",
    "            makeCsvLine(sent, temp, \"hexadecimal\")\n",
    "        elif result == \"ascii\":\n",
    "            temp = asci(sent)\n",
    "            if temp == None:\n",
    "                continue\n",
    "            makeCsvLine(sent, temp, 10)\n",
    "    except TypeError as e:\n",
    "        continue\n",
    "    except RuntimeWarning as e:\n",
    "        continue"
   ]
  },
  {
   "cell_type": "code",
   "execution_count": null,
   "metadata": {},
   "outputs": [],
   "source": []
  },
  {
   "cell_type": "code",
   "execution_count": null,
   "metadata": {},
   "outputs": [],
   "source": []
  },
  {
   "cell_type": "code",
   "execution_count": 300,
   "metadata": {},
   "outputs": [],
   "source": [
    "f.close()"
   ]
  },
  {
   "cell_type": "code",
   "execution_count": 301,
   "metadata": {},
   "outputs": [],
   "source": [
    "import pandas as pd\n",
    "df = pd.read_csv('encryptionData.csv', encoding='ISO-8859-15')\n",
    "#df.replace('Â', ' ')\n",
    "df.to_csv('output.csv', index=False)"
   ]
  },
  {
   "cell_type": "code",
   "execution_count": null,
   "metadata": {},
   "outputs": [],
   "source": []
  },
  {
   "cell_type": "code",
   "execution_count": null,
   "metadata": {},
   "outputs": [],
   "source": []
  }
 ],
 "metadata": {
  "kernelspec": {
   "display_name": "Python 3",
   "language": "python",
   "name": "python3"
  },
  "language_info": {
   "codemirror_mode": {
    "name": "ipython",
    "version": 3
   },
   "file_extension": ".py",
   "mimetype": "text/x-python",
   "name": "python",
   "nbconvert_exporter": "python",
   "pygments_lexer": "ipython3",
   "version": "3.7.3"
  }
 },
 "nbformat": 4,
 "nbformat_minor": 2
}

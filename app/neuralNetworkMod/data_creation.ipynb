{
 "cells": [
  {
   "cell_type": "code",
   "execution_count": 126,
   "metadata": {},
   "outputs": [],
   "source": [
    "from string import punctuation\n",
    "from scipy.stats import chisquare\n",
    "from IPython.core.debugger import set_trace\n",
    "with open(\"harrypotter.txt\", \"r\") as f:\n",
    "    text = f.read()\n"
   ]
  },
  {
   "cell_type": "code",
   "execution_count": null,
   "metadata": {},
   "outputs": [],
   "source": []
  },
  {
   "cell_type": "code",
   "execution_count": 127,
   "metadata": {},
   "outputs": [],
   "source": [
    "# replaces new lines with full stops\n",
    "text = text.replace('\\n', '.').lower()"
   ]
  },
  {
   "cell_type": "code",
   "execution_count": 128,
   "metadata": {},
   "outputs": [],
   "source": [
    "# splits it up into sentences\n",
    "sentences = text.split(\".\")\n"
   ]
  },
  {
   "cell_type": "code",
   "execution_count": 129,
   "metadata": {},
   "outputs": [],
   "source": [
    "# gets rid of empty stirngs and get rid of the \"i\" for chapter numbers\n",
    "sentences = list(filter(None, sentences))\n",
    "for counter, sent in enumerate(sentences):\n",
    "    if sent == \"i\":\n",
    "        del sentences[counter]\n"
   ]
  },
  {
   "cell_type": "code",
   "execution_count": 130,
   "metadata": {},
   "outputs": [
    {
     "name": "stdout",
     "output_type": "stream",
     "text": [
      "[\"harry potter and the sorcerer's stone \", 'chapter one ', 'the boy who lived ', 'mr', ' and mrs', ' dursley, of number four, privet drive, were proud to say that they were perfectly normal, thank you very much', \" they were the last people you'd expect to be involved in anything strange or mysterious, because they just didn't hold with such nonsense\", ' ', 'mr', ' dursley was the director of a firm called grunnings, which made drills']\n"
     ]
    }
   ],
   "source": [
    "print(sentences[:10])"
   ]
  },
  {
   "cell_type": "markdown",
   "metadata": {},
   "source": [
    "So I want the table to look like:\n",
    "text | length | how many letters are used (uniqueness) | maybe the chi squared score ? (normalised distribution not english) | frequency distribution | what it is | the plaintext\n",
    "\n",
    "I want it to include these things:\n",
    "base64\n",
    "sha1\n",
    "md5\n",
    "sha256\n",
    "caeser cipher\n",
    "plaintext\n",
    "\n",
    "So the next step would be to create encryption functions\n",
    "then for every sentence in it\n",
    "encrypt it\n",
    "create a csv line\n",
    "plaintext | encrypted text | length | how many letters are used | frequency distribution | chi squared score | what it is (base 64, sha 256, etc)\n"
   ]
  },
  {
   "cell_type": "code",
   "execution_count": 131,
   "metadata": {},
   "outputs": [],
   "source": [
    "def apply_rotation(c, factor):\n",
    "    \"\"\"Applies a shift of factor to the letter denoted by c\"\"\"\n",
    "    if c.isalpha():\n",
    "        lower = ord('A') if c.isupper() else ord('a')\n",
    "        c = chr(lower + ((ord(c) - lower + factor) % 26))\n",
    "    return c\n",
    "\n",
    "def caesar_cipher(s, k):\n",
    "    \"\"\"Iterates through each letter and constructs the cipher text\"\"\"\n",
    "    new_message = ''\n",
    "    factor = k % 26\n",
    "    for c in s:\n",
    "        new_message += apply_rotation(c, factor)\n",
    "    return new_message"
   ]
  },
  {
   "cell_type": "code",
   "execution_count": 132,
   "metadata": {},
   "outputs": [
    {
     "data": {
      "text/plain": [
       "'khoor'"
      ]
     },
     "execution_count": 132,
     "metadata": {},
     "output_type": "execute_result"
    }
   ],
   "source": [
    "caesar_cipher(\"hello\", 3)"
   ]
  },
  {
   "cell_type": "code",
   "execution_count": 133,
   "metadata": {},
   "outputs": [],
   "source": [
    "import hashlib"
   ]
  },
  {
   "cell_type": "code",
   "execution_count": 134,
   "metadata": {},
   "outputs": [],
   "source": [
    "hash_object = hashlib.sha1(b'HelWorld')"
   ]
  },
  {
   "cell_type": "code",
   "execution_count": 135,
   "metadata": {},
   "outputs": [
    {
     "data": {
      "text/plain": [
       "<sha1 HASH object @ 0x0000024C2CECE7B0>"
      ]
     },
     "execution_count": 135,
     "metadata": {},
     "output_type": "execute_result"
    }
   ],
   "source": [
    "hash_object"
   ]
  },
  {
   "cell_type": "code",
   "execution_count": 136,
   "metadata": {},
   "outputs": [
    {
     "data": {
      "text/plain": [
       "'8cbc22deca78b710224fff70e7b6fd148b88f35f'"
      ]
     },
     "execution_count": 136,
     "metadata": {},
     "output_type": "execute_result"
    }
   ],
   "source": [
    "hash_object.hexdigest()"
   ]
  },
  {
   "cell_type": "code",
   "execution_count": 137,
   "metadata": {},
   "outputs": [],
   "source": [
    "def sha1hash(s):\n",
    "    temp = str.encode(s)\n",
    "    temp = hashlib.sha1(temp)\n",
    "    return temp.hexdigest()"
   ]
  },
  {
   "cell_type": "code",
   "execution_count": 138,
   "metadata": {},
   "outputs": [],
   "source": [
    "def md5hash(s):\n",
    "    temp = str.encode(s)\n",
    "    temp = hashlib.md5(temp)\n",
    "    return temp.hexdigest()"
   ]
  },
  {
   "cell_type": "code",
   "execution_count": 139,
   "metadata": {},
   "outputs": [],
   "source": [
    "def sha256hash(s):\n",
    "    temp = str.encode(s)\n",
    "    temp = hashlib.sha256(temp)\n",
    "    return temp.hexdigest()"
   ]
  },
  {
   "cell_type": "code",
   "execution_count": null,
   "metadata": {},
   "outputs": [],
   "source": []
  },
  {
   "cell_type": "code",
   "execution_count": 140,
   "metadata": {},
   "outputs": [],
   "source": [
    "def sha512hash(s):\n",
    "    temp = str.encode(s)\n",
    "    temp = hashlib.sha512(temp)\n",
    "    return temp.hexdigest()"
   ]
  },
  {
   "cell_type": "code",
   "execution_count": 141,
   "metadata": {},
   "outputs": [],
   "source": [
    "types = [\"sha1\", \"md5\", \"sha256\", \"sha512\", \"caeser\", \"caeser\", \"plaintext\" ]"
   ]
  },
  {
   "cell_type": "code",
   "execution_count": 142,
   "metadata": {},
   "outputs": [],
   "source": [
    "def howManyLettersUsed(text):\n",
    "    text = list(set(list(text)))\n",
    "    return len(text)\n",
    "    "
   ]
  },
  {
   "cell_type": "code",
   "execution_count": 143,
   "metadata": {},
   "outputs": [],
   "source": [
    "def isAscii(letter):\n",
    "    \"\"\"Determines whether a letter (or word) is ASCII\"\"\"\n",
    "    # checks if a charecter is ascii\n",
    "    # https://stackoverflow.com/questions/196345/how-to-check-if-a-string-in-python-is-in-ascii\n",
    "    return bool(lambda s: len(s) == len(s.encode()))"
   ]
  },
  {
   "cell_type": "code",
   "execution_count": 144,
   "metadata": {},
   "outputs": [],
   "source": [
    "def getLetterFreq(text):\n",
    "    # This part creates a letter frequency of the text\n",
    "    letterFreq = {'a': 0, 'b': 0, 'c': 0, 'd': 0, 'e': 0, 'f': 0, 'g': 0, 'h': 0, 'i': 0, 'j': 0, 'k': 0, 'l': 0, 'm': 0, 'n': 0, 'o': 0, 'p': 0, 'q': 0, 'r': 0, 's': 0, 't': 0, 'u': 0, 'v': 0, 'w': 0, 'x': 0, 'y': 0, 'z': 0}\n",
    "\n",
    "    for letter in text.lower():\n",
    "        if letter in letterFreq:\n",
    "            letterFreq[letter] +=1\n",
    "        else:\n",
    "            # if letter is not puncuation, but it is still ascii\n",
    "            # it's probably a different language so add it to the dict\n",
    "            if letter not in punctuation and isAscii(letter):\n",
    "                letterFreq[letter] = 1\n",
    "    return list(letterFreq.values())"
   ]
  },
  {
   "cell_type": "code",
   "execution_count": null,
   "metadata": {},
   "outputs": [],
   "source": []
  },
  {
   "cell_type": "code",
   "execution_count": 145,
   "metadata": {},
   "outputs": [],
   "source": [
    "import csv\n",
    "f = open(\"encryptionData.csv\", \"w\")\n",
    "counter = 0\n",
    "encryption_writer = csv.writer(f, delimiter=',', quotechar='\"', quoting=csv.QUOTE_MINIMAL)"
   ]
  },
  {
   "cell_type": "code",
   "execution_count": 146,
   "metadata": {},
   "outputs": [],
   "source": [
    "def makeCsvLine(plaintext, text, cipher):\n",
    "    plaintext = plaintext\n",
    "    ciphertext = text\n",
    "    length = len(text)\n",
    "    howManyLetters = howManyLettersUsed(text)\n",
    "    letterfreq = getLetterFreq(text)\n",
    "    chi = chisquare(letterfreq)[1]\n",
    "    \n",
    "    used = cipher\n",
    "    if used == \"sha1\":\n",
    "        used = 0\n",
    "    elif used == \"md5\":\n",
    "        used = 1\n",
    "    elif used == \"sha256\":\n",
    "        used = 2\n",
    "    elif used == \"sha512\":\n",
    "        used = 3\n",
    "    elif used == \"caesar\":\n",
    "        used = 4\n",
    "    elif used == \"plaintext\":\n",
    "        used = 5\n",
    "    if plaintext == \"\" or plaintext == None:\n",
    "        return (1)\n",
    "    global counter\n",
    "    encryption_writer.writerow([plaintext, ciphertext, length, howManyLetters, letterfreq, chi, used])\n",
    "    "
   ]
  },
  {
   "cell_type": "code",
   "execution_count": 147,
   "metadata": {},
   "outputs": [],
   "source": [
    "makeCsvLine(\"hello my name is brandon\", \"iad jadiw aikjawi\", \"caesar\")"
   ]
  },
  {
   "cell_type": "code",
   "execution_count": null,
   "metadata": {},
   "outputs": [],
   "source": []
  },
  {
   "cell_type": "code",
   "execution_count": 148,
   "metadata": {},
   "outputs": [],
   "source": [
    "# types = [\"sha1\", \"md5\", \"sha256\", \"sha512\", \"caeser\", \"caeser\", \"plaintext\" ]\n",
    "import random\n",
    "for sent in sentences:        \n",
    "    result = random.choice(types)\n",
    "    if sent == None or sent == \"\" or sent == \" \":\n",
    "        continue\n",
    "    if sent[0] == \" \":\n",
    "        sent = sent[1::]\n",
    "    if result == \"sha1\":\n",
    "        temp = sha1hash(sent)\n",
    "        if temp == None:\n",
    "            continue\n",
    "        makeCsvLine(sent, temp, \"sha1\")\n",
    "    elif result == \"md5\":\n",
    "        temp = md5hash(sent)\n",
    "        if temp == None:\n",
    "            continue\n",
    "        makeCsvLine(sent, temp, \"md5\")\n",
    "    elif result == \"sha256\":\n",
    "        temp = sha256hash(sent)\n",
    "        if temp == None:\n",
    "            continue\n",
    "        makeCsvLine(sent, temp, \"sha256\")\n",
    "    elif result == \"sha512\":\n",
    "        temp = sha512hash(sent)\n",
    "        if temp == None:\n",
    "            continue\n",
    "        makeCsvLine(sent, temp, \"sha512\")\n",
    "    elif result == \"caeser\":\n",
    "        temp = caesar_cipher(sent, random.randint(1, 25))\n",
    "        if temp == None:\n",
    "            continue\n",
    "        makeCsvLine(sent, temp, \"caesar\")\n",
    "    elif result == \"plaintext\":\n",
    "        makeCsvLine(sent, sent, \"plaintext\")"
   ]
  },
  {
   "cell_type": "code",
   "execution_count": null,
   "metadata": {},
   "outputs": [],
   "source": []
  },
  {
   "cell_type": "code",
   "execution_count": null,
   "metadata": {},
   "outputs": [],
   "source": []
  },
  {
   "cell_type": "code",
   "execution_count": 149,
   "metadata": {},
   "outputs": [],
   "source": [
    "f.close()"
   ]
  },
  {
   "cell_type": "code",
   "execution_count": 150,
   "metadata": {},
   "outputs": [],
   "source": [
    "import pandas as pd\n",
    "df = pd.read_csv('encryptionData.csv', encoding='ISO-8859-15')\n",
    "#df.replace('Â', ' ')\n",
    "df.to_csv('output.csv', index=False)"
   ]
  },
  {
   "cell_type": "code",
   "execution_count": null,
   "metadata": {},
   "outputs": [],
   "source": []
  },
  {
   "cell_type": "code",
   "execution_count": null,
   "metadata": {},
   "outputs": [],
   "source": []
  }
 ],
 "metadata": {
  "kernelspec": {
   "display_name": "Python 3",
   "language": "python",
   "name": "python3"
  },
  "language_info": {
   "codemirror_mode": {
    "name": "ipython",
    "version": 3
   },
   "file_extension": ".py",
   "mimetype": "text/x-python",
   "name": "python",
   "nbconvert_exporter": "python",
   "pygments_lexer": "ipython3",
   "version": "3.7.3"
  }
 },
 "nbformat": 4,
 "nbformat_minor": 2
}

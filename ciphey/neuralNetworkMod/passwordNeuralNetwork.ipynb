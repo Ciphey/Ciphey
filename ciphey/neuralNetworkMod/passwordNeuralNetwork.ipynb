{
 "cells": [
  {
   "cell_type": "markdown",
   "metadata": {},
   "source": [
    "# What is this?\n",
    "This is the neural network designed to predict whether something is a password or not.\n",
    "Trained on rockyou.txt\n",
    "\n",
    "The features used are:\n",
    "* Length of text\n",
    "* Chi squared score (where freq is English)\n",
    "* The variaty of letters (so 0 - 9 is 10 letters, a - z is 26 letters)"
   ]
  }
 ],
 "metadata": {
  "kernelspec": {
   "display_name": "Python 3",
   "language": "python",
   "name": "python3"
  },
  "language_info": {
   "codemirror_mode": {
    "name": "ipython",
    "version": 3
   },
   "file_extension": ".py",
   "mimetype": "text/x-python",
   "name": "python",
   "nbconvert_exporter": "python",
   "pygments_lexer": "ipython3",
   "version": "3.8.3"
  }
 },
 "nbformat": 4,
 "nbformat_minor": 2
}
